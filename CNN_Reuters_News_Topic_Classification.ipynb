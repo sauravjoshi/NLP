{
  "nbformat": 4,
  "nbformat_minor": 0,
  "metadata": {
    "colab": {
      "name": "CNN: Reuters News Topic Classification",
      "provenance": [],
      "collapsed_sections": [],
      "include_colab_link": true
    },
    "kernelspec": {
      "name": "python3",
      "display_name": "Python 3"
    },
    "accelerator": "GPU"
  },
  "cells": [
    {
      "cell_type": "markdown",
      "metadata": {
        "id": "view-in-github",
        "colab_type": "text"
      },
      "source": [
        "<a href=\"https://colab.research.google.com/github/sauravjoshi/NLP/blob/master/CNN_Reuters_News_Topic_Classification.ipynb\" target=\"_parent\"><img src=\"https://colab.research.google.com/assets/colab-badge.svg\" alt=\"Open In Colab\"/></a>"
      ]
    },
    {
      "cell_type": "code",
      "metadata": {
        "id": "YYQOALzkU84L",
        "colab_type": "code",
        "colab": {}
      },
      "source": [
        "!pip install numpy==1.16.1"
      ],
      "execution_count": 0,
      "outputs": []
    },
    {
      "cell_type": "code",
      "metadata": {
        "id": "-hnxkPn6VUOI",
        "colab_type": "code",
        "colab": {}
      },
      "source": [
        "import numpy as np\n",
        "import keras\n",
        "from keras.datasets import reuters\n",
        "from keras.preprocessing.text import Tokenizer\n",
        "from keras.models import Sequential\n",
        "from keras import layers"
      ],
      "execution_count": 0,
      "outputs": []
    },
    {
      "cell_type": "code",
      "metadata": {
        "id": "aNZTaWsJWF78",
        "colab_type": "code",
        "colab": {}
      },
      "source": [
        "batch_size = 32\n",
        "epochs = 12\n",
        "maxlen = 10000\n",
        "embedding_dim = 128\n",
        "num_filters = 64\n",
        "kernel_size = 5 "
      ],
      "execution_count": 0,
      "outputs": []
    },
    {
      "cell_type": "code",
      "metadata": {
        "id": "Yx16cUpWZdDJ",
        "colab_type": "code",
        "colab": {
          "base_uri": "https://localhost:8080/",
          "height": 52
        },
        "outputId": "c15de074-4915-4251-d381-1985aeb77774"
      },
      "source": [
        "(X_train, y_train), (X_test, y_test) = reuters.load_data(num_words=None, test_split=0.2)"
      ],
      "execution_count": 5,
      "outputs": [
        {
          "output_type": "stream",
          "text": [
            "Downloading data from https://s3.amazonaws.com/text-datasets/reuters.npz\n",
            "2113536/2110848 [==============================] - 1s 1us/step\n"
          ],
          "name": "stdout"
        }
      ]
    },
    {
      "cell_type": "code",
      "metadata": {
        "id": "5rMWd8K-Zs7C",
        "colab_type": "code",
        "colab": {
          "base_uri": "https://localhost:8080/",
          "height": 72
        },
        "outputId": "ff3117a5-b40c-4e55-8865-dbd77458e220"
      },
      "source": [
        "word_index = reuters.get_word_index(path='reuters_word_index.json')"
      ],
      "execution_count": 9,
      "outputs": [
        {
          "output_type": "stream",
          "text": [
            "Downloading data from https://s3.amazonaws.com/text-datasets/reuters_word_index.json\n",
            "557056/550378 [==============================] - 1s 2us/step\n"
          ],
          "name": "stdout"
        }
      ]
    },
    {
      "cell_type": "code",
      "metadata": {
        "id": "x-GY3HGsa3Kt",
        "colab_type": "code",
        "colab": {}
      },
      "source": [
        "num_classes = max(y_train) + 1\n",
        "index_to_word = {}\n",
        "for key, value in word_index.items():\n",
        "  index_to_word[value] = key"
      ],
      "execution_count": 0,
      "outputs": []
    },
    {
      "cell_type": "code",
      "metadata": {
        "id": "mIodrt3Kj36W",
        "colab_type": "code",
        "colab": {}
      },
      "source": [
        "index_to_word"
      ],
      "execution_count": 0,
      "outputs": []
    },
    {
      "cell_type": "code",
      "metadata": {
        "id": "uhngxBjsj6qh",
        "colab_type": "code",
        "colab": {}
      },
      "source": [
        "tokenizer = Tokenizer(num_words=maxlen)\n",
        "X_train = tokenizer.sequences_to_matrix(X_train, mode='binary')\n",
        "X_test = tokenizer.sequences_to_matrix(X_test, mode='binary')\n",
        "y_train = keras.utils.to_categorical(y_train, num_classes)\n",
        "y_test = keras.utils.to_categorical(y_test, num_classes)\n"
      ],
      "execution_count": 0,
      "outputs": []
    },
    {
      "cell_type": "code",
      "metadata": {
        "id": "dZ7Zf48zntsB",
        "colab_type": "code",
        "colab": {}
      },
      "source": [
        "model = Sequential()\n",
        "model.add(layers.Embedding(512, embedding_dim, input_length=maxlen))\n",
        "model.add(layers.Conv1D(num_filters, kernel_size, activation='relu'))\n",
        "model.add(layers.GlobalMaxPool1D())\n",
        "model.add(layers.Dense(10, activation='relu'))\n",
        "model.add(layers.Dense(num_classes, activation='softmax'))\n",
        "model.compile(loss='categorical_crossentropy', optimizer='adam', metrics=['accuracy'])"
      ],
      "execution_count": 0,
      "outputs": []
    },
    {
      "cell_type": "code",
      "metadata": {
        "id": "7M8V6YPuoazy",
        "colab_type": "code",
        "colab": {
          "base_uri": "https://localhost:8080/",
          "height": 864
        },
        "outputId": "fbda09bf-6ce2-4d0e-ca4a-96cbd042368d"
      },
      "source": [
        "model.fit(X_train, y_train, batch_size=batch_size, epochs=epochs,\n",
        "          verbose=1, validation_split=0.1)\n",
        "score = model.evaluate(X_test, y_test, batch_size=batch_size, verbose=1)\n",
        "print('Test Loss', score[0])\n",
        "print('Test Accuracy', score[1])"
      ],
      "execution_count": 14,
      "outputs": [
        {
          "output_type": "stream",
          "text": [
            "WARNING:tensorflow:From /usr/local/lib/python3.6/dist-packages/tensorflow_core/python/ops/math_grad.py:1424: where (from tensorflow.python.ops.array_ops) is deprecated and will be removed in a future version.\n",
            "Instructions for updating:\n",
            "Use tf.where in 2.0, which has the same broadcast rule as np.where\n",
            "WARNING:tensorflow:From /usr/local/lib/python3.6/dist-packages/keras/backend/tensorflow_backend.py:1033: The name tf.assign_add is deprecated. Please use tf.compat.v1.assign_add instead.\n",
            "\n",
            "WARNING:tensorflow:From /usr/local/lib/python3.6/dist-packages/keras/backend/tensorflow_backend.py:1020: The name tf.assign is deprecated. Please use tf.compat.v1.assign instead.\n",
            "\n",
            "WARNING:tensorflow:From /usr/local/lib/python3.6/dist-packages/keras/backend/tensorflow_backend.py:3005: The name tf.Session is deprecated. Please use tf.compat.v1.Session instead.\n",
            "\n",
            "Train on 8083 samples, validate on 899 samples\n",
            "Epoch 1/12\n",
            "WARNING:tensorflow:From /usr/local/lib/python3.6/dist-packages/keras/backend/tensorflow_backend.py:190: The name tf.get_default_session is deprecated. Please use tf.compat.v1.get_default_session instead.\n",
            "\n",
            "WARNING:tensorflow:From /usr/local/lib/python3.6/dist-packages/keras/backend/tensorflow_backend.py:197: The name tf.ConfigProto is deprecated. Please use tf.compat.v1.ConfigProto instead.\n",
            "\n",
            "WARNING:tensorflow:From /usr/local/lib/python3.6/dist-packages/keras/backend/tensorflow_backend.py:207: The name tf.global_variables is deprecated. Please use tf.compat.v1.global_variables instead.\n",
            "\n",
            "WARNING:tensorflow:From /usr/local/lib/python3.6/dist-packages/keras/backend/tensorflow_backend.py:216: The name tf.is_variable_initialized is deprecated. Please use tf.compat.v1.is_variable_initialized instead.\n",
            "\n",
            "WARNING:tensorflow:From /usr/local/lib/python3.6/dist-packages/keras/backend/tensorflow_backend.py:223: The name tf.variables_initializer is deprecated. Please use tf.compat.v1.variables_initializer instead.\n",
            "\n",
            "8083/8083 [==============================] - 32s 4ms/step - loss: 2.7533 - acc: 0.3454 - val_loss: 2.4235 - val_acc: 0.3315\n",
            "Epoch 2/12\n",
            "8083/8083 [==============================] - 25s 3ms/step - loss: 2.2957 - acc: 0.3886 - val_loss: 2.3456 - val_acc: 0.4038\n",
            "Epoch 3/12\n",
            "8083/8083 [==============================] - 25s 3ms/step - loss: 2.2468 - acc: 0.4091 - val_loss: 2.3334 - val_acc: 0.3749\n",
            "Epoch 4/12\n",
            "8083/8083 [==============================] - 25s 3ms/step - loss: 2.2376 - acc: 0.4062 - val_loss: 2.3140 - val_acc: 0.3993\n",
            "Epoch 5/12\n",
            "8083/8083 [==============================] - 25s 3ms/step - loss: 2.2277 - acc: 0.4116 - val_loss: 2.3180 - val_acc: 0.4004\n",
            "Epoch 6/12\n",
            "8083/8083 [==============================] - 25s 3ms/step - loss: 2.2222 - acc: 0.4152 - val_loss: 2.3067 - val_acc: 0.3971\n",
            "Epoch 7/12\n",
            "8083/8083 [==============================] - 25s 3ms/step - loss: 2.2165 - acc: 0.4166 - val_loss: 2.3172 - val_acc: 0.3838\n",
            "Epoch 8/12\n",
            "8083/8083 [==============================] - 25s 3ms/step - loss: 2.2097 - acc: 0.4174 - val_loss: 2.3038 - val_acc: 0.3904\n",
            "Epoch 9/12\n",
            "8083/8083 [==============================] - 25s 3ms/step - loss: 2.2086 - acc: 0.4142 - val_loss: 2.2987 - val_acc: 0.4016\n",
            "Epoch 10/12\n",
            "8083/8083 [==============================] - 25s 3ms/step - loss: 2.2050 - acc: 0.4166 - val_loss: 2.2979 - val_acc: 0.4016\n",
            "Epoch 11/12\n",
            "8083/8083 [==============================] - 25s 3ms/step - loss: 2.2023 - acc: 0.4177 - val_loss: 2.3073 - val_acc: 0.3771\n",
            "Epoch 12/12\n",
            "8083/8083 [==============================] - 25s 3ms/step - loss: 2.1942 - acc: 0.4226 - val_loss: 2.2920 - val_acc: 0.4060\n",
            "2246/2246 [==============================] - 2s 903us/step\n",
            "Test Loss 2.208552122753004\n",
            "Test Accuracy 0.42609082813891364\n"
          ],
          "name": "stdout"
        }
      ]
    },
    {
      "cell_type": "code",
      "metadata": {
        "id": "gPKP1O48o8IW",
        "colab_type": "code",
        "colab": {}
      },
      "source": [
        ""
      ],
      "execution_count": 0,
      "outputs": []
    }
  ]
}