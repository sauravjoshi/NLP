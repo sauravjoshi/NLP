{
 "cells": [
  {
   "cell_type": "code",
   "execution_count": 17,
   "metadata": {},
   "outputs": [],
   "source": [
    "import pandas as pd\n",
    "import re\n",
    "import nltk\n",
    "from nltk.corpus import stopwords\n",
    "from sklearn.model_selection import train_test_split\n",
    "from sklearn.feature_extraction.text import CountVectorizer"
   ]
  },
  {
   "cell_type": "code",
   "execution_count": 51,
   "metadata": {},
   "outputs": [],
   "source": [
    "df = pd.read_csv('./Datasets/train_comment_small_100.csv', sep=',')"
   ]
  },
  {
   "cell_type": "code",
   "execution_count": 54,
   "metadata": {},
   "outputs": [],
   "source": [
    "def text_cleaning(text):\n",
    "    \n",
    "    text = re.sub('<[^<]+?>', ' ', text)\n",
    "    text = text.replace('\\\\\"', '').replace('\\n', '')\n",
    "    text = text.replace('\"', '')\n",
    "    return text"
   ]
  },
  {
   "cell_type": "code",
   "execution_count": 55,
   "metadata": {},
   "outputs": [],
   "source": [
    "df = df.dropna()\n",
    "df['cleaned_comment_text'] = df['comment_text'].apply(text_cleaning)"
   ]
  },
  {
   "cell_type": "code",
   "execution_count": 57,
   "metadata": {},
   "outputs": [],
   "source": [
    "X_train, X_test, y_train, y_test = train_test_split(df['cleaned_comment_text'], df['toxic'], test_size=0.2)"
   ]
  },
  {
   "cell_type": "code",
   "execution_count": 58,
   "metadata": {},
   "outputs": [],
   "source": [
    "vectorizer = CountVectorizer(binary=True, stop_words=stopwords.words('english'),\n",
    "                            lowercase=True, min_df=3, max_df=0.2, max_features=5000)\n",
    "X_train_onehot = vectorizer.fit_transform(X_train)"
   ]
  },
  {
   "cell_type": "code",
   "execution_count": 59,
   "metadata": {},
   "outputs": [],
   "source": [
    "from keras.layers import Dense\n",
    "from keras.models import Sequential"
   ]
  },
  {
   "cell_type": "code",
   "execution_count": 60,
   "metadata": {},
   "outputs": [],
   "source": [
    "nn = Sequential()\n",
    "nn.add(Dense(units=500, activation='relu', input_dim = len(vectorizer.get_feature_names())))\n",
    "nn.add(Dense(units=1, activation='sigmoid'))"
   ]
  },
  {
   "cell_type": "code",
   "execution_count": 61,
   "metadata": {},
   "outputs": [],
   "source": [
    "nn.compile(loss='binary_crossentropy', optimizer='adam', metrics=['accuracy'])"
   ]
  },
  {
   "cell_type": "code",
   "execution_count": 62,
   "metadata": {},
   "outputs": [
    {
     "name": "stdout",
     "output_type": "stream",
     "text": [
      "Model: \"sequential_1\"\n",
      "_________________________________________________________________\n",
      "Layer (type)                 Output Shape              Param #   \n",
      "=================================================================\n",
      "dense_1 (Dense)              (None, 500)               57500     \n",
      "_________________________________________________________________\n",
      "dense_2 (Dense)              (None, 1)                 501       \n",
      "=================================================================\n",
      "Total params: 58,001\n",
      "Trainable params: 58,001\n",
      "Non-trainable params: 0\n",
      "_________________________________________________________________\n"
     ]
    }
   ],
   "source": [
    "nn.summary()"
   ]
  },
  {
   "cell_type": "code",
   "execution_count": 63,
   "metadata": {},
   "outputs": [
    {
     "name": "stdout",
     "output_type": "stream",
     "text": [
      "Train on 39 samples, validate on 40 samples\n",
      "Epoch 1/10\n",
      "39/39 [==============================] - 0s 2ms/step - loss: 0.7559 - accuracy: 0.2051 - val_loss: 0.7289 - val_accuracy: 0.3750\n",
      "Epoch 2/10\n",
      "39/39 [==============================] - 0s 102us/step - loss: 0.7029 - accuracy: 0.4359 - val_loss: 0.6859 - val_accuracy: 0.5500\n",
      "Epoch 3/10\n",
      "39/39 [==============================] - 0s 134us/step - loss: 0.6552 - accuracy: 0.6923 - val_loss: 0.6475 - val_accuracy: 0.7750\n",
      "Epoch 4/10\n",
      "39/39 [==============================] - 0s 147us/step - loss: 0.6122 - accuracy: 0.8718 - val_loss: 0.6133 - val_accuracy: 0.8250\n",
      "Epoch 5/10\n",
      "39/39 [==============================] - 0s 182us/step - loss: 0.5737 - accuracy: 0.9231 - val_loss: 0.5830 - val_accuracy: 0.8500\n",
      "Epoch 6/10\n",
      "39/39 [==============================] - 0s 136us/step - loss: 0.5391 - accuracy: 0.8974 - val_loss: 0.5562 - val_accuracy: 0.8750\n",
      "Epoch 7/10\n",
      "39/39 [==============================] - 0s 208us/step - loss: 0.5079 - accuracy: 0.8974 - val_loss: 0.5332 - val_accuracy: 0.8750\n",
      "Epoch 8/10\n",
      "39/39 [==============================] - 0s 143us/step - loss: 0.4803 - accuracy: 0.8974 - val_loss: 0.5125 - val_accuracy: 0.8750\n",
      "Epoch 9/10\n",
      "39/39 [==============================] - 0s 204us/step - loss: 0.4548 - accuracy: 0.8974 - val_loss: 0.4943 - val_accuracy: 0.8750\n",
      "Epoch 10/10\n",
      "39/39 [==============================] - 0s 144us/step - loss: 0.4316 - accuracy: 0.8974 - val_loss: 0.4784 - val_accuracy: 0.8750\n"
     ]
    },
    {
     "data": {
      "text/plain": [
       "<keras.callbacks.callbacks.History at 0x7ff251800940>"
      ]
     },
     "execution_count": 63,
     "metadata": {},
     "output_type": "execute_result"
    }
   ],
   "source": [
    "nn.fit(X_train_onehot[:-40], y_train[:-40], epochs=10, batch_size=128, verbose=1,\n",
    "      validation_data=(X_train_onehot[-40:], y_train[-40:]))"
   ]
  },
  {
   "cell_type": "code",
   "execution_count": 64,
   "metadata": {},
   "outputs": [
    {
     "name": "stdout",
     "output_type": "stream",
     "text": [
      "20/20 [==============================] - 0s 132us/step\n",
      "Accuracy: 1.0\n"
     ]
    }
   ],
   "source": [
    "scores = nn.evaluate(vectorizer.transform(X_test), y_test, verbose=1)\n",
    "print('Accuracy:', scores[1])"
   ]
  },
  {
   "cell_type": "code",
   "execution_count": null,
   "metadata": {},
   "outputs": [],
   "source": []
  }
 ],
 "metadata": {
  "kernelspec": {
   "display_name": "Python 3",
   "language": "python",
   "name": "python3"
  },
  "language_info": {
   "codemirror_mode": {
    "name": "ipython",
    "version": 3
   },
   "file_extension": ".py",
   "mimetype": "text/x-python",
   "name": "python",
   "nbconvert_exporter": "python",
   "pygments_lexer": "ipython3",
   "version": "3.6.9"
  }
 },
 "nbformat": 4,
 "nbformat_minor": 2
}
