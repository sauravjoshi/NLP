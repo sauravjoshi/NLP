{
 "cells": [
  {
   "cell_type": "markdown",
   "metadata": {},
   "source": [
    "## Simple Neural Network\n",
    "> A simple, classic neural network to by following standard workflow, to predict whether a review is positive or negative."
   ]
  },
  {
   "cell_type": "code",
   "execution_count": 1,
   "metadata": {
    "scrolled": true
   },
   "outputs": [],
   "source": [
    "import pandas as pd\n",
    "import re\n",
    "from sklearn.model_selection import train_test_split\n",
    "import nltk\n",
    "from nltk.corpus import stopwords\n",
    "from sklearn.feature_extraction.text import CountVectorizer"
   ]
  },
  {
   "cell_type": "markdown",
   "metadata": {},
   "source": [
    "**Reading and pre-processing the Input**"
   ]
  },
  {
   "cell_type": "code",
   "execution_count": 2,
   "metadata": {},
   "outputs": [],
   "source": [
    "df = pd.read_csv('./Datasets/train_comment_small_50.csv', sep=',')"
   ]
  },
  {
   "cell_type": "code",
   "execution_count": 3,
   "metadata": {},
   "outputs": [],
   "source": [
    "def clean_comment(text):\n",
    "    \n",
    "    text = re.sub('<[^<]+?>', ' ', text)\n",
    "    text = text.replace('\\\\\"', '') #.replace('\\n', '')\n",
    "    text = text.replace('\"', '')\n",
    "    return text"
   ]
  },
  {
   "cell_type": "code",
   "execution_count": 4,
   "metadata": {},
   "outputs": [],
   "source": [
    "df['cleaned_comment'] = df['comment_text'].apply(clean_comment)"
   ]
  },
  {
   "cell_type": "markdown",
   "metadata": {},
   "source": [
    "**Splitting of data and conversion of text into binary Sparse matrix using CountVectorizer**"
   ]
  },
  {
   "cell_type": "code",
   "execution_count": 5,
   "metadata": {},
   "outputs": [],
   "source": [
    "X_train, X_test, y_train, y_test = train_test_split(df['cleaned_comment'], df['toxic'], test_size=0.2)"
   ]
  },
  {
   "cell_type": "code",
   "execution_count": 6,
   "metadata": {},
   "outputs": [],
   "source": [
    "vectorizer = CountVectorizer(binary=True, stop_words=stopwords.words('english'),\n",
    "                             lowercase=True, min_df=3, max_df=0.9, max_features=5000)\n",
    "\n",
    "X_train_onehot = vectorizer.fit_transform(X_train)"
   ]
  },
  {
   "cell_type": "markdown",
   "metadata": {},
   "source": [
    "**Creating a 2-Layer neural network.**"
   ]
  },
  {
   "cell_type": "code",
   "execution_count": 7,
   "metadata": {},
   "outputs": [
    {
     "name": "stderr",
     "output_type": "stream",
     "text": [
      "Using TensorFlow backend.\n"
     ]
    }
   ],
   "source": [
    "from keras.models import Sequential, load_model\n",
    "from keras.layers import Dense"
   ]
  },
  {
   "cell_type": "code",
   "execution_count": 8,
   "metadata": {},
   "outputs": [],
   "source": [
    "nn = Sequential()\n",
    "nn.add(Dense(units=500, activation='relu', input_dim = len(vectorizer.get_feature_names())))\n",
    "nn.add(Dense(units=1, activation='sigmoid'))"
   ]
  },
  {
   "cell_type": "code",
   "execution_count": 9,
   "metadata": {},
   "outputs": [],
   "source": [
    "nn.compile(loss='binary_crossentropy', optimizer='adam', metrics=['accuracy'])"
   ]
  },
  {
   "cell_type": "code",
   "execution_count": 10,
   "metadata": {},
   "outputs": [
    {
     "name": "stdout",
     "output_type": "stream",
     "text": [
      "Model: \"sequential_1\"\n",
      "_________________________________________________________________\n",
      "Layer (type)                 Output Shape              Param #   \n",
      "=================================================================\n",
      "dense_1 (Dense)              (None, 500)               29000     \n",
      "_________________________________________________________________\n",
      "dense_2 (Dense)              (None, 1)                 501       \n",
      "=================================================================\n",
      "Total params: 29,501\n",
      "Trainable params: 29,501\n",
      "Non-trainable params: 0\n",
      "_________________________________________________________________\n"
     ]
    }
   ],
   "source": [
    "nn.summary()"
   ]
  },
  {
   "cell_type": "markdown",
   "metadata": {},
   "source": [
    "**Fitting and validating the train data**"
   ]
  },
  {
   "cell_type": "code",
   "execution_count": 11,
   "metadata": {},
   "outputs": [
    {
     "name": "stdout",
     "output_type": "stream",
     "text": [
      "Train on 20 samples, validate on 20 samples\n",
      "Epoch 1/10\n",
      "20/20 [==============================] - 0s 5ms/step - loss: 0.6793 - accuracy: 0.7000 - val_loss: 0.6416 - val_accuracy: 0.8500\n",
      "Epoch 2/10\n",
      "20/20 [==============================] - 0s 216us/step - loss: 0.6270 - accuracy: 0.9000 - val_loss: 0.6054 - val_accuracy: 0.8500\n",
      "Epoch 3/10\n",
      "20/20 [==============================] - 0s 249us/step - loss: 0.5807 - accuracy: 0.9500 - val_loss: 0.5729 - val_accuracy: 0.8500\n",
      "Epoch 4/10\n",
      "20/20 [==============================] - 0s 251us/step - loss: 0.5399 - accuracy: 0.9500 - val_loss: 0.5439 - val_accuracy: 0.8500\n",
      "Epoch 5/10\n",
      "20/20 [==============================] - 0s 179us/step - loss: 0.5040 - accuracy: 0.9500 - val_loss: 0.5181 - val_accuracy: 0.8500\n",
      "Epoch 6/10\n",
      "20/20 [==============================] - 0s 294us/step - loss: 0.4725 - accuracy: 0.9500 - val_loss: 0.4954 - val_accuracy: 0.8500\n",
      "Epoch 7/10\n",
      "20/20 [==============================] - 0s 192us/step - loss: 0.4447 - accuracy: 0.9000 - val_loss: 0.4755 - val_accuracy: 0.8500\n",
      "Epoch 8/10\n",
      "20/20 [==============================] - 0s 200us/step - loss: 0.4200 - accuracy: 0.9000 - val_loss: 0.4582 - val_accuracy: 0.8500\n",
      "Epoch 9/10\n",
      "20/20 [==============================] - 0s 319us/step - loss: 0.3979 - accuracy: 0.9000 - val_loss: 0.4431 - val_accuracy: 0.8500\n",
      "Epoch 10/10\n",
      "20/20 [==============================] - 0s 207us/step - loss: 0.3779 - accuracy: 0.9500 - val_loss: 0.4300 - val_accuracy: 0.8500\n"
     ]
    },
    {
     "data": {
      "text/plain": [
       "<keras.callbacks.callbacks.History at 0x7fb58444e080>"
      ]
     },
     "execution_count": 11,
     "metadata": {},
     "output_type": "execute_result"
    }
   ],
   "source": [
    "nn.fit(X_train_onehot[:-20], y_train[:-20], epochs=10, batch_size=128, verbose=1,\n",
    "      validation_data=(X_train_onehot[-20:], y_train[-20:]))"
   ]
  },
  {
   "cell_type": "markdown",
   "metadata": {},
   "source": [
    "**Evaluation on test data**"
   ]
  },
  {
   "cell_type": "code",
   "execution_count": 12,
   "metadata": {},
   "outputs": [
    {
     "name": "stdout",
     "output_type": "stream",
     "text": [
      "10/10 [==============================] - 0s 252us/step\n",
      "Accuracy: 1.0\n"
     ]
    }
   ],
   "source": [
    "scores = nn.evaluate(vectorizer.transform(X_test), y_test, verbose=1)\n",
    "print('Accuracy:', scores[1])"
   ]
  },
  {
   "cell_type": "code",
   "execution_count": 13,
   "metadata": {},
   "outputs": [],
   "source": [
    "nn.save('nn.hd5')"
   ]
  }
 ],
 "metadata": {
  "kernelspec": {
   "display_name": "Python 3",
   "language": "python",
   "name": "python3"
  },
  "language_info": {
   "codemirror_mode": {
    "name": "ipython",
    "version": 3
   },
   "file_extension": ".py",
   "mimetype": "text/x-python",
   "name": "python",
   "nbconvert_exporter": "python",
   "pygments_lexer": "ipython3",
   "version": "3.6.9"
  }
 },
 "nbformat": 4,
 "nbformat_minor": 2
}
