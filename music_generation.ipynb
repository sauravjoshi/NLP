{
  "nbformat": 4,
  "nbformat_minor": 0,
  "metadata": {
    "colab": {
      "name": "music_generation.ipynb",
      "provenance": [],
      "collapsed_sections": [],
      "include_colab_link": true
    },
    "kernelspec": {
      "name": "python3",
      "display_name": "Python 3"
    }
  },
  "cells": [
    {
      "cell_type": "markdown",
      "metadata": {
        "id": "view-in-github",
        "colab_type": "text"
      },
      "source": [
        "<a href=\"https://colab.research.google.com/github/sauravjoshi/NLP/blob/master/music_generation.ipynb\" target=\"_parent\"><img src=\"https://colab.research.google.com/assets/colab-badge.svg\" alt=\"Open In Colab\"/></a>"
      ]
    },
    {
      "cell_type": "code",
      "metadata": {
        "id": "80H72BrAk1gs",
        "colab_type": "code",
        "colab": {}
      },
      "source": [
        "from google.colab import drive\n",
        "drive.mount('/content/gdrive')\n",
        "root_path = 'gdrive/My Drive/NLP'"
      ],
      "execution_count": 0,
      "outputs": []
    },
    {
      "cell_type": "code",
      "metadata": {
        "id": "6fUDXCuClXGx",
        "colab_type": "code",
        "colab": {}
      },
      "source": [
        "!pip install pydub"
      ],
      "execution_count": 0,
      "outputs": []
    },
    {
      "cell_type": "code",
      "metadata": {
        "id": "5cj1W8fek6C1",
        "colab_type": "code",
        "colab": {}
      },
      "source": [
        "import numpy as np\n",
        "import pandas as pd\n",
        "import pydub\n",
        "\n",
        "from keras.layers import LSTM, Dense, LeakyReLU\n",
        "from keras.models import Sequential, load_model\n",
        "from scipy.io.wavfile import read, write\n",
        "\n",
        "#from keras.layers import CuDNNLSTM as LSTM"
      ],
      "execution_count": 0,
      "outputs": []
    },
    {
      "cell_type": "code",
      "metadata": {
        "id": "0rBXAan9mEOd",
        "colab_type": "code",
        "colab": {
          "base_uri": "https://localhost:8080/",
          "height": 34
        },
        "outputId": "b6786dd6-1ec3-4da1-9a8d-edea37db643e"
      },
      "source": [
        "!ls gdrive/My\\ Drive/NLP/"
      ],
      "execution_count": 9,
      "outputs": [
        {
          "output_type": "stream",
          "text": [
            "glove.6B.100d.txt  glove.6B.50d.txt  Numb_piano.mp3  robert_frost.txt\n"
          ],
          "name": "stdout"
        }
      ]
    },
    {
      "cell_type": "code",
      "metadata": {
        "id": "X2Zppmn7ms4K",
        "colab_type": "code",
        "colab": {
          "base_uri": "https://localhost:8080/",
          "height": 34
        },
        "outputId": "c24b9a91-9f86-47da-afb8-5cb06af0a4ca"
      },
      "source": [
        "sound = pydub.AudioSegment.from_mp3('./gdrive/My Drive/NLP/Numb_piano.mp3')\n",
        "sound.export('./gdrive/My Drive/NLP/Numb.wav', format='wav')\n",
        "sound = pydub.AudioSegment.from_mp3('./gdrive/My Drive/NLP/Eminem.mp3')\n",
        "sound.export('./gdrive/My Drive/NLP/Eminem.wav', format='wav')"
      ],
      "execution_count": 15,
      "outputs": [
        {
          "output_type": "execute_result",
          "data": {
            "text/plain": [
              "<_io.BufferedRandom name='./gdrive/My Drive/NLP/Eminem1.wav'>"
            ]
          },
          "metadata": {
            "tags": []
          },
          "execution_count": 15
        }
      ]
    },
    {
      "cell_type": "code",
      "metadata": {
        "id": "pikTUPT5nZRn",
        "colab_type": "code",
        "colab": {}
      },
      "source": [
        "rate, music1 = read('./gdrive/My Drive/NLP/Numb.wav')\n",
        "rate, music2 = read('./gdrive/My Drive/NLP/Eminem.wav')"
      ],
      "execution_count": 0,
      "outputs": []
    },
    {
      "cell_type": "code",
      "metadata": {
        "id": "1PjZxUUNoPX-",
        "colab_type": "code",
        "colab": {}
      },
      "source": [
        "music1 = pd.DataFrame(music1[0:400000, :])\n",
        "music2 = pd.DataFrame(music2[0:400000, :])"
      ],
      "execution_count": 0,
      "outputs": []
    },
    {
      "cell_type": "code",
      "metadata": {
        "id": "E2E4MOxHoYB_",
        "colab_type": "code",
        "colab": {}
      },
      "source": [
        "def create_train_dataset(df, look_back, train=True):\n",
        "    dataX1, dataX2 , dataY1 , dataY2 = [],[],[],[]\n",
        "    for i in range(len(df)-look_back-1):\n",
        "        dataX1.append(df.iloc[i : i + look_back, 0].values)\n",
        "        dataX2.append(df.iloc[i : i + look_back, 1].values)\n",
        "        if train:\n",
        "            dataY1.append(df.iloc[i + look_back, 0])\n",
        "            dataY2.append(df.iloc[i + look_back, 1])\n",
        "    if train:\n",
        "        return np.array(dataX1), np.array(dataX2), np.array(dataY1), np.array(dataY2)\n",
        "    else:\n",
        "        return np.array(dataX1), np.array(dataX2)"
      ],
      "execution_count": 0,
      "outputs": []
    },
    {
      "cell_type": "code",
      "metadata": {
        "id": "yMq_gOfOpCJL",
        "colab_type": "code",
        "colab": {}
      },
      "source": [
        "X1, X2, y1, y2 = create_train_dataset(\n",
        "    pd.concat([music1.iloc[0:160000, :],music2.iloc[0:160000, :]], axis=0),\n",
        "    look_back=3, train=True)"
      ],
      "execution_count": 0,
      "outputs": []
    },
    {
      "cell_type": "code",
      "metadata": {
        "id": "LDXy0RGPpSxR",
        "colab_type": "code",
        "colab": {}
      },
      "source": [
        "test1, test2 = create_train_dataset(\n",
        "    pd.concat([music1.iloc[160001 : 400000, :],music2.iloc[160001 : 400000, :]], axis=0),\n",
        "    look_back=3, train=False)"
      ],
      "execution_count": 0,
      "outputs": []
    },
    {
      "cell_type": "code",
      "metadata": {
        "id": "xqrrlk25q7Mb",
        "colab_type": "code",
        "colab": {
          "base_uri": "https://localhost:8080/",
          "height": 87
        },
        "outputId": "7010222f-452e-499d-ab12-ac32ecd32692"
      },
      "source": [
        "print(X1.shape)\n",
        "print(X2.shape)\n",
        "print(y1.shape)\n",
        "print(y2.shape)"
      ],
      "execution_count": 27,
      "outputs": [
        {
          "output_type": "stream",
          "text": [
            "(319996, 3)\n",
            "(319996, 3)\n",
            "(319996,)\n",
            "(319996,)\n"
          ],
          "name": "stdout"
        }
      ]
    },
    {
      "cell_type": "code",
      "metadata": {
        "id": "RC4zII5Qr823",
        "colab_type": "code",
        "colab": {}
      },
      "source": [
        "X1 = X1.reshape((-1, 1, 3))\n",
        "X2 = X2.reshape((-1, 1, 3))"
      ],
      "execution_count": 0,
      "outputs": []
    },
    {
      "cell_type": "code",
      "metadata": {
        "id": "sEuOeA8Hr-vk",
        "colab_type": "code",
        "colab": {}
      },
      "source": [
        "rnn1 = Sequential()\n",
        "rnn1.add(LSTM(units=100, activation='linear', input_shape=(None, 3)))\n",
        "rnn1.add(LeakyReLU())\n",
        "rnn1.add(Dense(units=50, activation='linear'))\n",
        "rnn1.add(LeakyReLU())\n",
        "rnn1.add(Dense(units=25, activation='linear'))\n",
        "rnn1.add(LeakyReLU())\n",
        "rnn1.add(Dense(units=12, activation='linear'))\n",
        "rnn1.add(LeakyReLU())\n",
        "rnn1.add(Dense(units=1, activation='linear'))\n",
        "rnn1.add(LeakyReLU())\n",
        "\n",
        "rnn1.compile(optimizer='adam', loss='mean_squared_error')\n",
        "rnn1.fit(X1, y1, epochs=20, batch_size=100)"
      ],
      "execution_count": 0,
      "outputs": []
    },
    {
      "cell_type": "code",
      "metadata": {
        "id": "sfMek6DdsCbB",
        "colab_type": "code",
        "colab": {}
      },
      "source": [
        "rnn2 = Sequential()\n",
        "rnn2.add(LSTM(units=100, activation='linear', input_shape=(None, 3)))\n",
        "rnn2.add(LeakyReLU())\n",
        "rnn2.add(Dense(units=50, activation='linear'))\n",
        "rnn2.add(LeakyReLU())\n",
        "rnn2.add(Dense(units=25, activation='linear'))\n",
        "rnn2.add(LeakyReLU())\n",
        "rnn2.add(Dense(units=12, activation='linear'))\n",
        "rnn2.add(LeakyReLU())\n",
        "rnn2.add(Dense(units=1, activation='linear'))\n",
        "rnn2.add(LeakyReLU())\n",
        "\n",
        "rnn2.compile(optimizer='adam', loss='mean_squared_error')\n",
        "rnn2.fit(X2, y2, epochs=20, batch_size=100)"
      ],
      "execution_count": 0,
      "outputs": []
    },
    {
      "cell_type": "code",
      "metadata": {
        "id": "iku3hqOTt7si",
        "colab_type": "code",
        "colab": {}
      },
      "source": [
        "rnn1.model.save('./gdrive/My Drive/NLP/music_generation_rnn1.h5')\n",
        "rnn2.model.save('./gdrive/My Drive/NLP/music_generation_rnn2.h5')"
      ],
      "execution_count": 0,
      "outputs": []
    },
    {
      "cell_type": "code",
      "metadata": {
        "id": "dR1S2gf1vknc",
        "colab_type": "code",
        "colab": {}
      },
      "source": [
        "# loading the saved models\n",
        "rnn1 = load_model('./gdrive/My Drive/NLP/music_generation_rnn1.h5')\n",
        "rnn2 = load_model('./gdrive/My Drive/NLP/music_generation_rnn2.h5')"
      ],
      "execution_count": 0,
      "outputs": []
    },
    {
      "cell_type": "code",
      "metadata": {
        "id": "YitxeApzvw-p",
        "colab_type": "code",
        "colab": {}
      },
      "source": [
        "pred_rnn1 = rnn1.predict(test1.reshape(-1, 1, 3))\n",
        "pred_rnn2 = rnn2.predict(test2.reshape(-1, 1, 3))"
      ],
      "execution_count": 0,
      "outputs": []
    },
    {
      "cell_type": "code",
      "metadata": {
        "id": "ZmiizSNiv0tK",
        "colab_type": "code",
        "colab": {}
      },
      "source": [
        "write('./gdrive/My Drive/NLP/pred_rnn.wav', rate,\n",
        "      pd.concat([pd.DataFrame(pred_rnn1.astype('int16')),\n",
        "                 pd.DataFrame(pred_rnn2.astype('int16'))],\n",
        "                 axis=1).values)"
      ],
      "execution_count": 0,
      "outputs": []
    },
    {
      "cell_type": "code",
      "metadata": {
        "id": "Oy7Onlf6wSH7",
        "colab_type": "code",
        "colab": {}
      },
      "source": [
        "write('./gdrive/My Drive/NLP/original.wav',rate,\n",
        "      pd.concat([music1.iloc[160001 : 400000, :], music2.iloc[160001 : 400000, :]],\n",
        "                axis=0).values)"
      ],
      "execution_count": 0,
      "outputs": []
    },
    {
      "cell_type": "code",
      "metadata": {
        "id": "KBNOAAiuwlJT",
        "colab_type": "code",
        "colab": {}
      },
      "source": [
        ""
      ],
      "execution_count": 0,
      "outputs": []
    }
  ]
}